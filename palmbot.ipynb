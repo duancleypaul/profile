{
 "cells": [
  {
   "cell_type": "markdown",
   "metadata": {},
   "source": [
    "# PalmInvest - Robô de Investimentos\n",
    "---\n",
    "Duan Cleypaul\n",
    "\n",
    "https://www.linkedin.com/in/duan-cleypaul-bb1715a5/\n",
    "\n",
    "duancleypaul@hotmail.com"
   ]
  },
  {
   "cell_type": "markdown",
   "metadata": {},
   "source": [
    "# Palmbot\n",
    "---\n",
    "### Características:\n",
    "\n",
    "O robô utiliza o cruzamento de duas médias móveis, com posicionamento de ordens pendentes e takeprofit e stoploss sistemáticos.\n",
    "\n",
    "#### Indicadores:\n",
    "\n",
    "* **EMA9:** média exponencial de 9 períodos, calculada sob o fechamento;\n",
    "* **SMA21:** média simples de 21 períodos, calculada sob a abertura;\n",
    "* **EMA200:** média exponencial de 200 períodos, calculada sob o fechamento;\n",
    "* **SMA200:** média simples de 200 períodos, calculada sobe o fechamento.\n",
    "\n",
    "#### Tempos Gráficos:\n",
    "\n",
    "* **M5:** gráfico principal;\n",
    "* **M15:** gráfico secundário (subchart, inserido na mesma janela do gráfico principal).\n",
    "\n",
    "#### Entradas, Saídas e Invalidação de Entrada:\n",
    "\n",
    "* **Entrada:** cruzamento das médias de 9 e 21 (EMA9 e SMA21), no gráfico principal (M5);\n",
    "* **Saída 1 (loss):** fechamento do candle no gráfico secundário (M15) acima/abaixo de ambas as médias EMA9 e SMA21;\n",
    "* **Saída 2 (primária, gain):** toque em suporte/resistência inseridos pelo usuário;\n",
    "* **Saída 3 (secundária, gain):** toque em qualquer uma das médias de 200 (EMA200 ou SMA200);\n",
    "* **Invalidação:** ordem posicionada, porém não consumida, e o candle fecha acima/abaixo das médias EMA9 e SMA21, no gráfico M15.\n",
    "\n",
    "#### Inputs:\n",
    "\n",
    "* **MA_1_Period:** Período Média Curta (default = 9);\n",
    "* **MA_2_Period:** Período Média Longa (default = 21);\n",
    "* **numeroMagico:** Número mágico (defaut = 1234); \n",
    "* **contratos:** Número de lotes utilizados em cada operação (default = 0.1);\n",
    "* **descolado:** Número de pontos a \"descolar\" a ordem (default = 5);\n",
    "* **stringSR:** Níveis de suporte e resistência (default = 0);\n",
    "* **inicio:** Horário mínimo permitido para enviar ordens (default = 09:00); \n",
    "* **termino:** Horário máximo permitido para enviar ordens (default = 17:00);\n",
    "* **fechamento:** Após esse horário, todas as posições serão automaticamente encerradas (default = 17:30)."
   ]
  },
  {
   "cell_type": "markdown",
   "metadata": {},
   "source": [
    "# Done\n",
    "---\n",
    "* **Entrada:** cruzamento das médias de 9 e 21 (EMA9 e SMA21), no gráfico principal (M5);\n",
    "* **Saída 1 (loss):** fechamento do candle no gráfico secundário (M15) acima/abaixo de ambas as médias EMA9 e SMA21;\n",
    "* **Saída 2 (gain):** toque em qualquer uma das médias de 200 (EMA200 ou SMA200);\n",
    "* **Invalidação:** ordem posicionada, porém não consumida, e o candle fecha acima/abaixo das médias EMA9 e SMA21, no gráfico M15 (cancelamento de ordens abertas)."
   ]
  },
  {
   "cell_type": "markdown",
   "metadata": {},
   "source": [
    "---\n",
    "* **Subchart M15:** gráfico secundário para visualização de validação e/ou invalidação de entradas.\n",
    "* **Painel Personalizado (parcialmente):** painel com logo personalizado e features solicitadas (botões, informações e dados em geral);\n",
    "![Painel_e_subchart](painel_e_subchart.png \"Painel e Subchart M15\")"
   ]
  },
  {
   "cell_type": "markdown",
   "metadata": {},
   "source": [
    "# To Do\n",
    "---"
   ]
  },
  {
   "cell_type": "markdown",
   "metadata": {},
   "source": [
    "* **Painel Dinâmico Personalizado:** um único painel que possua diferentes botões para visualizações diversas. Isso inclui visualização do subchart, histórico de negociações, gráfico de performance e quaisquer outros dados solicitados.\n",
    "* **Saída 1 (primária, gain):** toque na S/R (os valores inseridos já foram identificados e devidamente tratados, mas falta debugar o plot das linhas);\n",
    "* **AppDialog:** formato otimizado do painel (mais leve, mais rápido e com botão \"fechar\" que remove com segurança o EA);\n",
    "* **Otimização paramétrica (opcional):** otimização dos parâmetros inseridos pelo usuário (inputs);\n",
    "* **[DONE] Otimização dos critérios de entrada e saída:** definir melhor os critérios de autorização de posicionamento, fechamento e cancelamento de ordens.\n",
    "---\n",
    "* **Entrada por rompimento médias 200, retest:** após rompimento, buylimit na média rompida pra aumento de posição;\n",
    "* **Saída 1.1 (stop financeiro):** atingiu o limite de perda diário;\n",
    "* **Critério de Invalidação atualizado:** se o setup ativar compra com médias de 200 abaixo das médias 9 e 21, ou se ativar venda com médias de 200 acima das médias de 9 e 21, A SAÍDA DEVE SER SOMENTE NOS NÍVEIS DE SUPORTE E RESISTENCIA;\n",
    "* **Níveis de S/R:** o usuário deve poder alterar graficamente as linhas de S/R (mover, deletar, alterar a cor, etc). Caso isso seja feito, o vetor de valores S/R deve ser dinamicamente alterado. OBS: tentar tornar possível que o usuário TRACE as linhas de S/R e o EA capturar o nível de cada uma das linhas (filtrar para somente HORIZONTAL LINE no ativo e timeframe correntes).\n"
   ]
  },
  {
   "cell_type": "markdown",
   "metadata": {},
   "source": [
    "# Problemas\n",
    "---\n",
    "\n",
    "### 1. Ordens Limit e Stop\n",
    "![Ordens_stop_e_limit](ordem_stop_e_limit.png \"Ordens stop e limit\")\n",
    "\n",
    "Uma ordem mal utilizada e/ou posicionada pode resultar no não reconhecimento do envio das ordens por parte do servidor, corretora ou qualquer parte envolvida no roteamento delas.\n",
    "\n",
    "Veja o caso abaixo, a título exemplificativo:\n",
    "\n",
    "![Preco_invalido](preco_invalido.png \"Preço inválido\")\n",
    "\n",
    "**Formas de contornar o problema:**\n",
    "\n",
    "**1. [VAMOS USAR ORDEM A MERCADO] Utilizar ordens a mercado;**\n",
    "\n",
    "2. Continuar usando ordens STOP, porém com preenchimento do tipo RETURN.\n",
    "\n",
    "### 2. Preenchimento das ordens\n",
    "\n",
    "Definir qual o tipo de preenchimento das ordens é importante para afunilar o setup e tornar o envio das ordens mais eficaz.\n",
    "\n",
    "**Tipos de preenchimento de ordens:**\n",
    "\n",
    "* **FOK (Fill or Kill):** tudo ou nada;\n",
    "* **IOC (Immediate or Cancel):** consumir o que der e cancelar o resto;\n",
    "* **RETURN:** consumir o que der e deixar o resto na pedra.\n",
    "\n",
    "### 3. Invalidação por fechamento no M15\n",
    "\n",
    "O filtro de invalidação por fechamento no M15 é bom, mas precisa ser otimizado. A seguir, a imagem ilustra um caso bem sucedido do filtro. Primeiro, a ordem é posicionada após o cruzamento das médias:\n",
    "\n",
    "![Ordem_abriu](ordem_abriu.png \"Ordem abriu\")\n",
    "\n",
    "Logo em seguida, ela é cancelada pelo critério de invalidação (candle no M15 fechou acima das médias):\n",
    "\n",
    "![Ordem_cancelada](ordem_cancelada.png \"Ordem cancelada por invalidação de setup\")\n",
    "\n",
    "Apesar desse filtro ter funcionado na situação acima, ele precisa ser reconsiderado. Há casos em que a ordem já é aberta com a condição de invalidação satisfeita ou muito próximo de ser satisfeita. É o caso da imagem abaixo:\n",
    "\n",
    "![abriu_e_fechou](abriu_e_fechou_M15.png \"Ordem abriu e fechou\")\n",
    "\n",
    "### 4. Casos com bons potenciais não estão sendo validados\n",
    "\n",
    "Existem casos em que a operação seria muito bem sucedida, porém é impedida pelo critério de invalidação no M15. A seguir, um trade que seria bem lucrativo deixou de ser feito por causa do fechamento do candle no M15:\n",
    "\n",
    "![invalidando_M15](problema_ordem_cancelada_candleM15close_medias.png \"Invalidação por M15\")\n",
    "\n",
    "Sabendo disso, o que fazer com o critério de invalidação? Continuar com ele ou adaptá-lo?\n",
    "\n",
    "**EXCLUIR CRITÉRIO DE INVALIDAÇÃO POR FECHAMENTO NO M15. UTILIZAR APENAS PARÂMETRO DO M5.**\n",
    "\n",
    "### 5. Saída 1: toque nas médias de 200\n",
    "\n",
    "Como uma das opções de takeprofit é com toque na média de 200, é necessário filtrar a entrada. Por exemplo, caso uma compra seja feita de forma correta, porém com a média de 200 abaixo das médias 9 e 21, a compra será realizada, porém o takeprofit será acionado logo em seguida, uma vez que o preço atual já é maior ou igual às médias de 200. Esse problema é o mesmo ilustrado em figura anterior:\n",
    "\n",
    "![abriu_e_fechou](abriu_e_fechou_M15.png \"Ordem abriu e fechou\")\n",
    "\n",
    "**SOLUÇÃO PARA O PROBLEMA:**\n",
    "**NESSE CASO, SAIR SOMENTE NOS NÍVEIS DE S/R INSERIDOS PELO USUÁRIO**\n",
    "\n",
    "\n",
    "### 6. Segundas-feiras\n",
    "\n",
    "Abertura na segunda-feira geralmente ocasiona gaps (constatado em backtests). Gaps, quase que em 100% das vezes, antecedem cruzamento das médias 9 e 21 e implica em entrada equivocada. \n",
    "\n",
    "O que fazer? Entrar mesmo assim ou filtrar para esperar 1 ou mais candles após abertura?\n",
    "\n",
    "**SOLUÇÃO: FILTRAR ENTRADAS PARA EVITAR O PRIMEIRO CANDLE DO DIA!**"
   ]
  },
  {
   "cell_type": "markdown",
   "metadata": {},
   "source": [
    "# Cronograma\n",
    "---\n",
    "Disponibilidade até o dia 28/fevereiro (depois somente após 9/abril). **Impossibilitado nos fins de semana do dia 7/fev e 14/fev.**\n"
   ]
  },
  {
   "cell_type": "code",
   "execution_count": null,
   "metadata": {},
   "outputs": [],
   "source": []
  }
 ],
 "metadata": {
  "kernelspec": {
   "display_name": "Python 3",
   "language": "python",
   "name": "python3"
  },
  "language_info": {
   "codemirror_mode": {
    "name": "ipython",
    "version": 3
   },
   "file_extension": ".py",
   "mimetype": "text/x-python",
   "name": "python",
   "nbconvert_exporter": "python",
   "pygments_lexer": "ipython3",
   "version": "3.7.4"
  }
 },
 "nbformat": 4,
 "nbformat_minor": 2
}
